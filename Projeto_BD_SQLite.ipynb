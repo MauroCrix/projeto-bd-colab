{
  "nbformat": 4,
  "nbformat_minor": 0,
  "metadata": {
    "colab": {
      "provenance": [],
      "authorship_tag": "ABX9TyNR7iHF2i78apA/vs/Cfu2m",
      "include_colab_link": true
    },
    "kernelspec": {
      "name": "python3",
      "display_name": "Python 3"
    },
    "language_info": {
      "name": "python"
    }
  },
  "cells": [
    {
      "cell_type": "markdown",
      "metadata": {
        "id": "view-in-github",
        "colab_type": "text"
      },
      "source": [
        "<a href=\"https://colab.research.google.com/github/MauroCrix/projeto-bd-colab/blob/main/Projeto_BD_SQLite.ipynb\" target=\"_parent\"><img src=\"https://colab.research.google.com/assets/colab-badge.svg\" alt=\"Open In Colab\"/></a>"
      ]
    },
    {
      "cell_type": "code",
      "source": [
        "import sqlite3\n",
        "\n",
        "# 1. Conexão com banco de dados em memória\n",
        "conexao = sqlite3.connect(':memory:')\n",
        "cursor = conexao.cursor()\n",
        "\n",
        "# 2. Criação das tabelas\n",
        "cursor.execute('''\n",
        "    CREATE TABLE Clientes (\n",
        "        id INTEGER PRIMARY KEY AUTOINCREMENT,\n",
        "        nome TEXT NOT NULL,\n",
        "        email TEXT UNIQUE NOT NULL\n",
        "    )\n",
        "''')\n",
        "\n",
        "cursor.execute('''\n",
        "    CREATE TABLE Produtos (\n",
        "        id INTEGER PRIMARY KEY AUTOINCREMENT,\n",
        "        nome TEXT NOT NULL,\n",
        "        preco REAL NOT NULL\n",
        "    )\n",
        "''')\n",
        "\n",
        "cursor.execute('''\n",
        "    CREATE TABLE Vendas (\n",
        "        id INTEGER PRIMARY KEY AUTOINCREMENT,\n",
        "        cliente_id INTEGER,\n",
        "        produto_id INTEGER,\n",
        "        data_venda TEXT,\n",
        "        FOREIGN KEY(cliente_id) REFERENCES Clientes(id),\n",
        "        FOREIGN KEY(produto_id) REFERENCES Produtos(id)\n",
        "    )\n",
        "''')\n",
        "\n",
        "# 3. Inserção de dados\n",
        "clientes = [\n",
        "    (\"Ana Silva\", \"ana@email.com\"),\n",
        "    (\"Bruno Costa\", \"bruno@email.com\"),\n",
        "    (\"Carlos Lima\", \"carlos@email.com\")\n",
        "]\n",
        "\n",
        "produtos = [\n",
        "    (\"Notebook\", 3500.00),\n",
        "    (\"Mouse\", 150.00),\n",
        "    (\"Teclado\", 200.00)\n",
        "]\n",
        "\n",
        "vendas = [\n",
        "    (1, 1, \"2024-05-01\"),\n",
        "    (2, 2, \"2024-05-02\"),\n",
        "    (3, 3, \"2024-05-03\"),\n",
        "    (1, 2, \"2024-05-04\")\n",
        "]\n",
        "\n",
        "cursor.executemany(\"INSERT INTO Clientes (nome, email) VALUES (?, ?)\", clientes)\n",
        "cursor.executemany(\"INSERT INTO Produtos (nome, preco) VALUES (?, ?)\", produtos)\n",
        "cursor.executemany(\"INSERT INTO Vendas (cliente_id, produto_id, data_venda) VALUES (?, ?, ?)\", vendas)\n",
        "\n",
        "conexao.commit()\n",
        "\n",
        "# 4. Consultas\n",
        "\n",
        "# a) Consulta simples\n",
        "print(\"\\nTodos os produtos:\")\n",
        "cursor.execute(\"SELECT * FROM Produtos\")\n",
        "for linha in cursor.fetchall():\n",
        "    print(linha)\n",
        "\n",
        "# b) Consulta com JOIN\n",
        "print(\"\\nRelatório de vendas com nome do cliente e produto:\")\n",
        "cursor.execute('''\n",
        "    SELECT Vendas.id, Clientes.nome, Produtos.nome, Vendas.data_venda\n",
        "    FROM Vendas\n",
        "    JOIN Clientes ON Vendas.cliente_id = Clientes.id\n",
        "    JOIN Produtos ON Vendas.produto_id = Produtos.id\n",
        "''')\n",
        "for linha in cursor.fetchall():\n",
        "    print(linha)\n",
        "\n",
        "# c) Consulta com WHERE e ORDER BY\n",
        "print(\"\\nVendas do cliente Ana ordenadas por data:\")\n",
        "cursor.execute('''\n",
        "    SELECT Produtos.nome, Vendas.data_venda\n",
        "    FROM Vendas\n",
        "    JOIN Clientes ON Vendas.cliente_id = Clientes.id\n",
        "    JOIN Produtos ON Vendas.produto_id = Produtos.id\n",
        "    WHERE Clientes.nome = \"Ana Silva\"\n",
        "    ORDER BY Vendas.data_venda\n",
        "''')\n",
        "for linha in cursor.fetchall():\n",
        "    print(linha)\n",
        "\n",
        "# Fechando conexão\n",
        "conexao.close()\n"
      ],
      "metadata": {
        "id": "A4mQT9-_VnFb",
        "colab": {
          "base_uri": "https://localhost:8080/"
        },
        "outputId": "27728fa7-1240-4744-b5f9-d0f5a7c90b53"
      },
      "execution_count": 7,
      "outputs": [
        {
          "output_type": "stream",
          "name": "stdout",
          "text": [
            "\n",
            "Todos os produtos:\n",
            "(1, 'Notebook', 3500.0)\n",
            "(2, 'Mouse', 150.0)\n",
            "(3, 'Teclado', 200.0)\n",
            "\n",
            "Relatório de vendas com nome do cliente e produto:\n",
            "(1, 'Ana Silva', 'Notebook', '2024-05-01')\n",
            "(2, 'Bruno Costa', 'Mouse', '2024-05-02')\n",
            "(3, 'Carlos Lima', 'Teclado', '2024-05-03')\n",
            "(4, 'Ana Silva', 'Mouse', '2024-05-04')\n",
            "\n",
            "Vendas do cliente Ana ordenadas por data:\n",
            "('Notebook', '2024-05-01')\n",
            "('Mouse', '2024-05-04')\n"
          ]
        }
      ]
    }
  ]
}